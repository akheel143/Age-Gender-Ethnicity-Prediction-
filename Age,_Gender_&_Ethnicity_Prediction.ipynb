{
  "nbformat": 4,
  "nbformat_minor": 0,
  "metadata": {
    "colab": {
      "name": "Age, Gender & Ethnicity Prediction ",
      "provenance": [],
      "collapsed_sections": [],
      "mount_file_id": "1RpUEhfxp37Dtx6gUFc3cLyX_MdD2R1ia",
      "authorship_tag": "ABX9TyPuEm0hPij1CHqlLXzNNcap",
      "include_colab_link": true
    },
    "kernelspec": {
      "name": "python3",
      "display_name": "Python 3"
    },
    "language_info": {
      "name": "python"
    },
    "accelerator": "GPU"
  },
  "cells": [
    {
      "cell_type": "markdown",
      "metadata": {
        "id": "view-in-github",
        "colab_type": "text"
      },
      "source": [
        "<a href=\"https://colab.research.google.com/github/akheel143/Age-Gender-Ethnicity-Prediction-/blob/main/Age%2C_Gender_%26_Ethnicity_Prediction.ipynb\" target=\"_parent\"><img src=\"https://colab.research.google.com/assets/colab-badge.svg\" alt=\"Open In Colab\"/></a>"
      ]
    },
    {
      "cell_type": "code",
      "metadata": {
        "colab": {
          "base_uri": "https://localhost:8080/"
        },
        "id": "N64-gFKfV0X2",
        "outputId": "914aa8fa-31ce-4a6b-efd9-dd9760572538"
      },
      "source": [
        "from google.colab import drive\n",
        "drive.mount('/content/drive')"
      ],
      "execution_count": null,
      "outputs": [
        {
          "output_type": "stream",
          "text": [
            "Mounted at /content/drive\n"
          ],
          "name": "stdout"
        }
      ]
    },
    {
      "cell_type": "code",
      "metadata": {
        "id": "p4CVPZBIWAc-"
      },
      "source": [
        "import os\n",
        "os.environ['KAGGLE_CONFIG_DIR']='/content/drive/MyDrive/kaggle_datasets'"
      ],
      "execution_count": 3,
      "outputs": []
    },
    {
      "cell_type": "code",
      "metadata": {
        "colab": {
          "base_uri": "https://localhost:8080/"
        },
        "id": "FM9vKMXoWvhX",
        "outputId": "6a2085bf-e320-4d3c-fc6a-d70bcf315fc9"
      },
      "source": [
        "%cd /content/drive/MyDrive/kaggle_datasets"
      ],
      "execution_count": 4,
      "outputs": [
        {
          "output_type": "stream",
          "text": [
            "/content/drive/MyDrive/kaggle_datasets\n"
          ],
          "name": "stdout"
        }
      ]
    },
    {
      "cell_type": "code",
      "metadata": {
        "colab": {
          "base_uri": "https://localhost:8080/"
        },
        "id": "Xjz-3XkIWzKs",
        "outputId": "7a2573e3-60d2-495c-c7bf-0e0817e2981b"
      },
      "source": [
        "!ls"
      ],
      "execution_count": null,
      "outputs": [
        {
          "output_type": "stream",
          "text": [
            "kaggle.json\n"
          ],
          "name": "stdout"
        }
      ]
    },
    {
      "cell_type": "code",
      "metadata": {
        "colab": {
          "base_uri": "https://localhost:8080/"
        },
        "id": "JIq2Luj2W17Q",
        "outputId": "14e9b3dd-5a58-4b7e-e0e2-8a0bbe77c3cd"
      },
      "source": [
        "!kaggle datasets download -d nipunarora8/age-gender-and-ethnicity-face-data-csv"
      ],
      "execution_count": null,
      "outputs": [
        {
          "output_type": "stream",
          "text": [
            "Downloading age-gender-and-ethnicity-face-data-csv.zip to /content/drive/MyDrive/kaggle_datasets\n",
            " 93% 59.0M/63.2M [00:00<00:00, 86.8MB/s]\n",
            "100% 63.2M/63.2M [00:00<00:00, 108MB/s] \n"
          ],
          "name": "stdout"
        }
      ]
    },
    {
      "cell_type": "code",
      "metadata": {
        "id": "kQcoX0_hl05D"
      },
      "source": [
        "import pandas as pd\n",
        "import numpy as np"
      ],
      "execution_count": 1,
      "outputs": []
    },
    {
      "cell_type": "code",
      "metadata": {
        "id": "m2Y9P9eXl9Ay"
      },
      "source": [
        "Path=pd.read_csv('/content/drive/MyDrive/kaggle_datasets/age-gender-and-ethnicity-face-data-csv.zip')"
      ],
      "execution_count": 2,
      "outputs": []
    },
    {
      "cell_type": "code",
      "metadata": {
        "colab": {
          "base_uri": "https://localhost:8080/"
        },
        "id": "18HM11wHOxU7",
        "outputId": "1e1d2049-b162-4eb2-d725-840d7a784dac"
      },
      "source": [
        "print(Path.head(-1))"
      ],
      "execution_count": 3,
      "outputs": [
        {
          "output_type": "stream",
          "text": [
            "       age  ...                                             pixels\n",
            "0        1  ...  129 128 128 126 127 130 133 135 139 142 145 14...\n",
            "1        1  ...  164 74 111 168 169 171 175 182 184 188 193 199...\n",
            "2        1  ...  67 70 71 70 69 67 70 79 90 103 116 132 145 155...\n",
            "3        1  ...  193 197 198 200 199 200 202 203 204 205 208 21...\n",
            "4        1  ...  202 205 209 210 209 209 210 211 212 214 218 21...\n",
            "...    ...  ...                                                ...\n",
            "23699   99  ...  206 183 141 116 117 120 110 103 104 111 111 11...\n",
            "23700   99  ...  127 100 94 81 77 77 74 99 102 98 128 145 160 1...\n",
            "23701   99  ...  23 28 32 35 42 47 68 85 98 103 113 117 130 129...\n",
            "23702   99  ...  59 50 37 40 34 19 30 101 156 170 177 184 187 1...\n",
            "23703   99  ...  45 108 120 156 206 197 140 180 191 199 204 207...\n",
            "\n",
            "[23704 rows x 5 columns]\n"
          ],
          "name": "stdout"
        }
      ]
    },
    {
      "cell_type": "code",
      "metadata": {
        "id": "fVbEgKJlOxR4"
      },
      "source": [
        "Path = Main_G_A_E_Path.drop(\"img_name\",axis=1)"
      ],
      "execution_count": 4,
      "outputs": []
    },
    {
      "cell_type": "code",
      "metadata": {
        "colab": {
          "base_uri": "https://localhost:8080/"
        },
        "id": "QCpd5Xz-OxPD",
        "outputId": "e96aaf3d-132e-4bf7-8274-7d3710e9434d"
      },
      "source": [
        "print(Path.head())"
      ],
      "execution_count": 5,
      "outputs": [
        {
          "output_type": "stream",
          "text": [
            "   age  ethnicity  gender                                             pixels\n",
            "0    1          2       0  129 128 128 126 127 130 133 135 139 142 145 14...\n",
            "1    1          2       0  164 74 111 168 169 171 175 182 184 188 193 199...\n",
            "2    1          2       0  67 70 71 70 69 67 70 79 90 103 116 132 145 155...\n",
            "3    1          2       0  193 197 198 200 199 200 202 203 204 205 208 21...\n",
            "4    1          2       0  202 205 209 210 209 209 210 211 212 214 218 21...\n"
          ],
          "name": "stdout"
        }
      ]
    },
    {
      "cell_type": "code",
      "metadata": {
        "id": "eJUH9LuhOxMN"
      },
      "source": [
        "Path[\"age\"] = Main_G_A_E_Path[\"age\"].apply(lambda x: \"Teen\" if x < 18 else(\"Middle\" if 18 <= x < 55 else \"Old\"))"
      ],
      "execution_count": 6,
      "outputs": []
    },
    {
      "cell_type": "code",
      "metadata": {
        "colab": {
          "base_uri": "https://localhost:8080/"
        },
        "id": "1FtRACh1OxJh",
        "outputId": "cdbd5371-f9f4-47ea-8130-2338dc4cec34"
      },
      "source": [
        "print(Path[\"age\"].value_counts())"
      ],
      "execution_count": 7,
      "outputs": [
        {
          "output_type": "stream",
          "text": [
            "Middle    15830\n",
            "Teen       4233\n",
            "Old        3642\n",
            "Name: age, dtype: int64\n"
          ],
          "name": "stdout"
        }
      ]
    },
    {
      "cell_type": "code",
      "metadata": {
        "colab": {
          "base_uri": "https://localhost:8080/"
        },
        "id": "8Oyr0FwjOxGu",
        "outputId": "b807fae4-1729-49f3-a749-e7f8e8266506"
      },
      "source": [
        "print(Path.head(-1))"
      ],
      "execution_count": 8,
      "outputs": [
        {
          "output_type": "stream",
          "text": [
            "        age  ...                                             pixels\n",
            "0      Teen  ...  129 128 128 126 127 130 133 135 139 142 145 14...\n",
            "1      Teen  ...  164 74 111 168 169 171 175 182 184 188 193 199...\n",
            "2      Teen  ...  67 70 71 70 69 67 70 79 90 103 116 132 145 155...\n",
            "3      Teen  ...  193 197 198 200 199 200 202 203 204 205 208 21...\n",
            "4      Teen  ...  202 205 209 210 209 209 210 211 212 214 218 21...\n",
            "...     ...  ...                                                ...\n",
            "23699   Old  ...  206 183 141 116 117 120 110 103 104 111 111 11...\n",
            "23700   Old  ...  127 100 94 81 77 77 74 99 102 98 128 145 160 1...\n",
            "23701   Old  ...  23 28 32 35 42 47 68 85 98 103 113 117 130 129...\n",
            "23702   Old  ...  59 50 37 40 34 19 30 101 156 170 177 184 187 1...\n",
            "23703   Old  ...  45 108 120 156 206 197 140 180 191 199 204 207...\n",
            "\n",
            "[23704 rows x 4 columns]\n"
          ],
          "name": "stdout"
        }
      ]
    },
    {
      "cell_type": "code",
      "metadata": {
        "id": "kAMc0TSYPd1x"
      },
      "source": [
        "from sklearn.preprocessing import LabelEncoder"
      ],
      "execution_count": 9,
      "outputs": []
    },
    {
      "cell_type": "code",
      "metadata": {
        "id": "DxXZRhaEOxD4"
      },
      "source": [
        "Encoder_Function = LabelEncoder()"
      ],
      "execution_count": 10,
      "outputs": []
    },
    {
      "cell_type": "code",
      "metadata": {
        "colab": {
          "base_uri": "https://localhost:8080/"
        },
        "id": "B6U15uEoOxBB",
        "outputId": "86d6c952-28a4-43bd-cc40-54e554c5bdae"
      },
      "source": [
        "print(\"MAIN:\")\n",
        "print(Path[\"age\"].value_counts())\n",
        "print(\"---\" * 20)\n",
        "Path[\"age\"] = Encoder_Function.fit_transform(Path[\"age\"])\n",
        "print(\"TRANSFORMED:\")\n",
        "print(Path[\"age\"].value_counts())"
      ],
      "execution_count": 11,
      "outputs": [
        {
          "output_type": "stream",
          "text": [
            "MAIN:\n",
            "Middle    15830\n",
            "Teen       4233\n",
            "Old        3642\n",
            "Name: age, dtype: int64\n",
            "------------------------------------------------------------\n",
            "TRANSFORMED:\n",
            "0    15830\n",
            "2     4233\n",
            "1     3642\n",
            "Name: age, dtype: int64\n"
          ],
          "name": "stdout"
        }
      ]
    },
    {
      "cell_type": "code",
      "metadata": {
        "colab": {
          "base_uri": "https://localhost:8080/"
        },
        "id": "VRjGxdJ_Ow-g",
        "outputId": "0daf8f9b-07c5-4880-c455-8456859ef0d8"
      },
      "source": [
        "print(Path.head())"
      ],
      "execution_count": 12,
      "outputs": [
        {
          "output_type": "stream",
          "text": [
            "   age  ethnicity  gender                                             pixels\n",
            "0    2          2       0  129 128 128 126 127 130 133 135 139 142 145 14...\n",
            "1    2          2       0  164 74 111 168 169 171 175 182 184 188 193 199...\n",
            "2    2          2       0  67 70 71 70 69 67 70 79 90 103 116 132 145 155...\n",
            "3    2          2       0  193 197 198 200 199 200 202 203 204 205 208 21...\n",
            "4    2          2       0  202 205 209 210 209 209 210 211 212 214 218 21...\n"
          ],
          "name": "stdout"
        }
      ]
    },
    {
      "cell_type": "code",
      "metadata": {
        "id": "qa6iZrUlOw7e"
      },
      "source": [
        "Path[\"pixels\"] = Main_G_A_E_Path[\"pixels\"].apply(lambda x: np.array(x.split(),dtype=\"float32\"))\n",
        "Path[\"pixels\"] = Main_G_A_E_Path[\"pixels\"] / 255."
      ],
      "execution_count": 13,
      "outputs": []
    },
    {
      "cell_type": "code",
      "metadata": {
        "colab": {
          "base_uri": "https://localhost:8080/"
        },
        "id": "sX8rkwt8Ow44",
        "outputId": "9b8ed67e-2e39-4ac2-8e90-bd6ec6e91706"
      },
      "source": [
        "print(Path.head())"
      ],
      "execution_count": 14,
      "outputs": [
        {
          "output_type": "stream",
          "text": [
            "   age  ethnicity  gender                                             pixels\n",
            "0    2          2       0  [0.5058824, 0.5019608, 0.5019608, 0.49411765, ...\n",
            "1    2          2       0  [0.6431373, 0.2901961, 0.43529412, 0.65882355,...\n",
            "2    2          2       0  [0.2627451, 0.27450982, 0.2784314, 0.27450982,...\n",
            "3    2          2       0  [0.75686276, 0.77254903, 0.7764706, 0.78431374...\n",
            "4    2          2       0  [0.7921569, 0.8039216, 0.81960785, 0.8235294, ...\n"
          ],
          "name": "stdout"
        }
      ]
    },
    {
      "cell_type": "code",
      "metadata": {
        "colab": {
          "base_uri": "https://localhost:8080/"
        },
        "id": "JEU1PuKaOw2A",
        "outputId": "f61a3f4f-56cd-45c8-b1c9-5a24ae77c74c"
      },
      "source": [
        "print(\"Single Image Shape:\")\n",
        "print(Path[\"pixels\"][0].shape)\n",
        "print(\"Total Shape:\")\n",
        "print(Path[\"pixels\"].shape)"
      ],
      "execution_count": 15,
      "outputs": [
        {
          "output_type": "stream",
          "text": [
            "Single Image Shape:\n",
            "(2304,)\n",
            "Total Shape:\n",
            "(23705,)\n"
          ],
          "name": "stdout"
        }
      ]
    },
    {
      "cell_type": "code",
      "metadata": {
        "id": "wbis_utjOwzO"
      },
      "source": [
        "X_Train = np.zeros(shape=(23705,2304))\n",
        "\n",
        "for indexing in range(len(Path[\"pixels\"])):\n",
        "    X_Train[indexing] = Path[\"pixels\"][indexing]\n"
      ],
      "execution_count": 16,
      "outputs": []
    },
    {
      "cell_type": "code",
      "metadata": {
        "colab": {
          "base_uri": "https://localhost:8080/"
        },
        "id": "qAUO4-oROwwS",
        "outputId": "a16efb29-9e7d-436a-93db-ed03cf8af12a"
      },
      "source": [
        "print(X_Train.shape)"
      ],
      "execution_count": 17,
      "outputs": [
        {
          "output_type": "stream",
          "text": [
            "(23705, 2304)\n"
          ],
          "name": "stdout"
        }
      ]
    },
    {
      "cell_type": "code",
      "metadata": {
        "id": "qTcATStUbqFq"
      },
      "source": [
        "X_Train = X_Train.reshape(-1,48,48,1)"
      ],
      "execution_count": 50,
      "outputs": []
    },
    {
      "cell_type": "code",
      "metadata": {
        "id": "eFGKZCOzbiAe"
      },
      "source": [
        "X=X_Train"
      ],
      "execution_count": 51,
      "outputs": []
    },
    {
      "cell_type": "code",
      "metadata": {
        "id": "e6fKFgWucWIC"
      },
      "source": [
        "Y=Y = Main_G_A_E_Path.iloc[:,:-1].values"
      ],
      "execution_count": 52,
      "outputs": []
    },
    {
      "cell_type": "code",
      "metadata": {
        "colab": {
          "base_uri": "https://localhost:8080/"
        },
        "id": "diqE-h5MQyba",
        "outputId": "80d0e03e-12d7-498a-a41e-d3c1e5cb3d31"
      },
      "source": [
        "from sklearn.model_selection import train_test_split\n",
        "x_train,x_test,y_train,y_test=train_test_split(X,Y,test_size=0.1,random_state=42,shuffle=True)\n",
        "x_train[0].shape"
      ],
      "execution_count": 53,
      "outputs": [
        {
          "output_type": "execute_result",
          "data": {
            "text/plain": [
              "(48, 48, 1)"
            ]
          },
          "metadata": {
            "tags": []
          },
          "execution_count": 53
        }
      ]
    },
    {
      "cell_type": "code",
      "metadata": {
        "id": "2QAJm2yClbt9"
      },
      "source": [
        "from numpy import asarray"
      ],
      "execution_count": 82,
      "outputs": []
    },
    {
      "cell_type": "code",
      "metadata": {
        "id": "_VwBaEkWlWoM"
      },
      "source": [
        "x_train = np.asarray(x_train)\n",
        "y_train = np.asarray(y_train)\n",
        "x_test = np.asarray(x_test)\n",
        "y_test= np.asarray(y_test)"
      ],
      "execution_count": 85,
      "outputs": []
    },
    {
      "cell_type": "code",
      "metadata": {
        "colab": {
          "base_uri": "https://localhost:8080/"
        },
        "id": "HhWHkNn3lEzC",
        "outputId": "1535a26c-b159-44fb-b3ea-dca4d60833f6"
      },
      "source": [
        "print(x_train.shape)\n",
        "print(x_test.shape)\n",
        "print(y_train.shape)\n",
        "print(y_test.shape)"
      ],
      "execution_count": 86,
      "outputs": [
        {
          "output_type": "stream",
          "text": [
            "(21334, 48, 48, 1)\n",
            "(2371, 48, 48, 1)\n",
            "(21334, 3)\n",
            "(2371, 3)\n"
          ],
          "name": "stdout"
        }
      ]
    },
    {
      "cell_type": "code",
      "metadata": {
        "id": "Rwg1sQYbkl2s"
      },
      "source": [
        "Model = Sequential()\n",
        "\n",
        "Model.add(Conv2D(32,(3,3),activation=\"relu\",input_shape=(48,48,1)))\n",
        "Model.add(BatchNormalization())\n",
        "Model.add(MaxPooling2D((2,2)))\n",
        "\n",
        "Model.add(Conv2D(64,(3,3),activation=\"relu\"))\n",
        "Model.add(Dropout(0.3))\n",
        "Model.add(MaxPooling2D((2,2)))\n",
        "Model.add(BatchNormalization())\n",
        "\n",
        "Model.add(Conv2D(128,(3,3),activation=\"relu\"))\n",
        "Model.add(Dropout(0.3))\n",
        "Model.add(MaxPooling2D((2,2)))\n",
        "Model.add(BatchNormalization())\n",
        "\n",
        "\n",
        "Model.add(Flatten())\n",
        "Model.add(Dense(128,activation=\"relu\"))\n",
        "Model.add(BatchNormalization())\n",
        "Model.add(Dropout(0.5))\n",
        "Model.add(Dense(64,activation=\"relu\"))\n",
        "Model.add(BatchNormalization())\n",
        "Model.add(Dropout(0.5))\n",
        "Model.add(Dense(3,activation=\"softmax\"))"
      ],
      "execution_count": 87,
      "outputs": []
    },
    {
      "cell_type": "code",
      "metadata": {
        "id": "p9SCVijJklpN"
      },
      "source": [
        "Model.compile(optimizer='adam',loss='msle',metrics=['accuracy'])\n"
      ],
      "execution_count": 88,
      "outputs": []
    },
    {
      "cell_type": "code",
      "metadata": {
        "colab": {
          "base_uri": "https://localhost:8080/"
        },
        "id": "6VACwdO6klQg",
        "outputId": "c9672332-05de-4b0b-fb0c-8cd346e46e03"
      },
      "source": [
        "history = Model.fit(x_train,y_train,\n",
        "                      validation_data=(x_test,y_test),\n",
        "                      batch_size=12,\n",
        "                      epochs=50)"
      ],
      "execution_count": 103,
      "outputs": [
        {
          "output_type": "stream",
          "text": [
            "Epoch 1/50\n",
            "1778/1778 [==============================] - 10s 6ms/step - loss: 0.1986 - accuracy: 0.6669 - val_loss: 0.2000 - val_accuracy: 0.6360\n",
            "Epoch 2/50\n",
            "1778/1778 [==============================] - 10s 6ms/step - loss: 0.1965 - accuracy: 0.6752 - val_loss: 0.1897 - val_accuracy: 0.7014\n",
            "Epoch 3/50\n",
            "1778/1778 [==============================] - 10s 6ms/step - loss: 0.1950 - accuracy: 0.6754 - val_loss: 0.1868 - val_accuracy: 0.7077\n",
            "Epoch 4/50\n",
            "1778/1778 [==============================] - 10s 6ms/step - loss: 0.1939 - accuracy: 0.6843 - val_loss: 0.1858 - val_accuracy: 0.7410\n",
            "Epoch 5/50\n",
            "1778/1778 [==============================] - 10s 6ms/step - loss: 0.1935 - accuracy: 0.6852 - val_loss: 0.1931 - val_accuracy: 0.6984\n",
            "Epoch 6/50\n",
            "1778/1778 [==============================] - 10s 6ms/step - loss: 0.1938 - accuracy: 0.6818 - val_loss: 0.1882 - val_accuracy: 0.7440\n",
            "Epoch 7/50\n",
            "1778/1778 [==============================] - 10s 6ms/step - loss: 0.1911 - accuracy: 0.6908 - val_loss: 0.1869 - val_accuracy: 0.7275\n",
            "Epoch 8/50\n",
            "1778/1778 [==============================] - 10s 6ms/step - loss: 0.1902 - accuracy: 0.6955 - val_loss: 0.1925 - val_accuracy: 0.7199\n",
            "Epoch 9/50\n",
            "1778/1778 [==============================] - 10s 6ms/step - loss: 0.1902 - accuracy: 0.6974 - val_loss: 0.1991 - val_accuracy: 0.7216\n",
            "Epoch 10/50\n",
            "1778/1778 [==============================] - 10s 6ms/step - loss: 0.1898 - accuracy: 0.6945 - val_loss: 0.1866 - val_accuracy: 0.6925\n",
            "Epoch 11/50\n",
            "1778/1778 [==============================] - 10s 6ms/step - loss: 0.1886 - accuracy: 0.7033 - val_loss: 0.1843 - val_accuracy: 0.7280\n",
            "Epoch 12/50\n",
            "1778/1778 [==============================] - 10s 6ms/step - loss: 0.1880 - accuracy: 0.7019 - val_loss: 0.1834 - val_accuracy: 0.7284\n",
            "Epoch 13/50\n",
            "1778/1778 [==============================] - 10s 6ms/step - loss: 0.1877 - accuracy: 0.7043 - val_loss: 0.1865 - val_accuracy: 0.7225\n",
            "Epoch 14/50\n",
            "1778/1778 [==============================] - 10s 6ms/step - loss: 0.1877 - accuracy: 0.7000 - val_loss: 0.1905 - val_accuracy: 0.6849\n",
            "Epoch 15/50\n",
            "1778/1778 [==============================] - 10s 6ms/step - loss: 0.1877 - accuracy: 0.7050 - val_loss: 0.1954 - val_accuracy: 0.7444\n",
            "Epoch 16/50\n",
            "1778/1778 [==============================] - 10s 6ms/step - loss: 0.1868 - accuracy: 0.7043 - val_loss: 0.2037 - val_accuracy: 0.7436\n",
            "Epoch 17/50\n",
            "1778/1778 [==============================] - 10s 6ms/step - loss: 0.1865 - accuracy: 0.7062 - val_loss: 0.1842 - val_accuracy: 0.7402\n",
            "Epoch 18/50\n",
            "1778/1778 [==============================] - 10s 6ms/step - loss: 0.1864 - accuracy: 0.7104 - val_loss: 0.1960 - val_accuracy: 0.7444\n",
            "Epoch 19/50\n",
            "1778/1778 [==============================] - 10s 6ms/step - loss: 0.1858 - accuracy: 0.7110 - val_loss: 0.2038 - val_accuracy: 0.7204\n",
            "Epoch 20/50\n",
            "1778/1778 [==============================] - 10s 6ms/step - loss: 0.1858 - accuracy: 0.7084 - val_loss: 0.1832 - val_accuracy: 0.7562\n",
            "Epoch 21/50\n",
            "1778/1778 [==============================] - 10s 6ms/step - loss: 0.1846 - accuracy: 0.7115 - val_loss: 0.1864 - val_accuracy: 0.7204\n",
            "Epoch 22/50\n",
            "1778/1778 [==============================] - 10s 6ms/step - loss: 0.1849 - accuracy: 0.7145 - val_loss: 0.1826 - val_accuracy: 0.7377\n",
            "Epoch 23/50\n",
            "1778/1778 [==============================] - 10s 6ms/step - loss: 0.1845 - accuracy: 0.7125 - val_loss: 0.1831 - val_accuracy: 0.7174\n",
            "Epoch 24/50\n",
            "1778/1778 [==============================] - 10s 6ms/step - loss: 0.1851 - accuracy: 0.7128 - val_loss: 0.1836 - val_accuracy: 0.7043\n",
            "Epoch 25/50\n",
            "1778/1778 [==============================] - 10s 6ms/step - loss: 0.1842 - accuracy: 0.7142 - val_loss: 0.1851 - val_accuracy: 0.7448\n",
            "Epoch 26/50\n",
            "1778/1778 [==============================] - 10s 6ms/step - loss: 0.1850 - accuracy: 0.7121 - val_loss: 0.1884 - val_accuracy: 0.6913\n",
            "Epoch 27/50\n",
            "1778/1778 [==============================] - 10s 6ms/step - loss: 0.1840 - accuracy: 0.7123 - val_loss: 0.2168 - val_accuracy: 0.6373\n",
            "Epoch 28/50\n",
            "1778/1778 [==============================] - 10s 6ms/step - loss: 0.1846 - accuracy: 0.7147 - val_loss: 0.1827 - val_accuracy: 0.7271\n",
            "Epoch 29/50\n",
            "1778/1778 [==============================] - 10s 6ms/step - loss: 0.1837 - accuracy: 0.7150 - val_loss: 0.1841 - val_accuracy: 0.7191\n",
            "Epoch 30/50\n",
            "1778/1778 [==============================] - 10s 6ms/step - loss: 0.1828 - accuracy: 0.7171 - val_loss: 0.1815 - val_accuracy: 0.7318\n",
            "Epoch 31/50\n",
            "1778/1778 [==============================] - 10s 6ms/step - loss: 0.1831 - accuracy: 0.7175 - val_loss: 0.1811 - val_accuracy: 0.7351\n",
            "Epoch 32/50\n",
            "1778/1778 [==============================] - 10s 6ms/step - loss: 0.1841 - accuracy: 0.7148 - val_loss: 0.1922 - val_accuracy: 0.6757\n",
            "Epoch 33/50\n",
            "1778/1778 [==============================] - 10s 6ms/step - loss: 0.1826 - accuracy: 0.7189 - val_loss: 0.1820 - val_accuracy: 0.7334\n",
            "Epoch 34/50\n",
            "1778/1778 [==============================] - 10s 6ms/step - loss: 0.1823 - accuracy: 0.7210 - val_loss: 0.1867 - val_accuracy: 0.7571\n",
            "Epoch 35/50\n",
            "1778/1778 [==============================] - 10s 6ms/step - loss: 0.1818 - accuracy: 0.7212 - val_loss: 0.1822 - val_accuracy: 0.7318\n",
            "Epoch 36/50\n",
            "1778/1778 [==============================] - 10s 6ms/step - loss: 0.1823 - accuracy: 0.7203 - val_loss: 0.1966 - val_accuracy: 0.7444\n",
            "Epoch 37/50\n",
            "1778/1778 [==============================] - 10s 6ms/step - loss: 0.1816 - accuracy: 0.7229 - val_loss: 0.1851 - val_accuracy: 0.7558\n",
            "Epoch 38/50\n",
            "1778/1778 [==============================] - 10s 6ms/step - loss: 0.1817 - accuracy: 0.7235 - val_loss: 0.1849 - val_accuracy: 0.7254\n",
            "Epoch 39/50\n",
            "1778/1778 [==============================] - 10s 6ms/step - loss: 0.1822 - accuracy: 0.7207 - val_loss: 0.1851 - val_accuracy: 0.7486\n",
            "Epoch 40/50\n",
            "1778/1778 [==============================] - 10s 6ms/step - loss: 0.1824 - accuracy: 0.7215 - val_loss: 0.1824 - val_accuracy: 0.7474\n",
            "Epoch 41/50\n",
            "1778/1778 [==============================] - 10s 6ms/step - loss: 0.1814 - accuracy: 0.7208 - val_loss: 0.1827 - val_accuracy: 0.7351\n",
            "Epoch 42/50\n",
            "1778/1778 [==============================] - 10s 6ms/step - loss: 0.1831 - accuracy: 0.7172 - val_loss: 0.1848 - val_accuracy: 0.7309\n",
            "Epoch 43/50\n",
            "1778/1778 [==============================] - 10s 6ms/step - loss: 0.1830 - accuracy: 0.7194 - val_loss: 0.1806 - val_accuracy: 0.7356\n",
            "Epoch 44/50\n",
            "1778/1778 [==============================] - 10s 6ms/step - loss: 0.1822 - accuracy: 0.7199 - val_loss: 0.1896 - val_accuracy: 0.7537\n",
            "Epoch 45/50\n",
            "1778/1778 [==============================] - 10s 6ms/step - loss: 0.1803 - accuracy: 0.7276 - val_loss: 0.1806 - val_accuracy: 0.7410\n",
            "Epoch 46/50\n",
            "1778/1778 [==============================] - 10s 6ms/step - loss: 0.1816 - accuracy: 0.7267 - val_loss: 0.1854 - val_accuracy: 0.7368\n",
            "Epoch 47/50\n",
            "1778/1778 [==============================] - 10s 6ms/step - loss: 0.1807 - accuracy: 0.7247 - val_loss: 0.1841 - val_accuracy: 0.7347\n",
            "Epoch 48/50\n",
            "1778/1778 [==============================] - 10s 6ms/step - loss: 0.1797 - accuracy: 0.7291 - val_loss: 0.1808 - val_accuracy: 0.7474\n",
            "Epoch 49/50\n",
            "1778/1778 [==============================] - 10s 6ms/step - loss: 0.1804 - accuracy: 0.7266 - val_loss: 0.1818 - val_accuracy: 0.7275\n",
            "Epoch 50/50\n",
            "1778/1778 [==============================] - 10s 6ms/step - loss: 0.1805 - accuracy: 0.7260 - val_loss: 0.1796 - val_accuracy: 0.7360\n"
          ],
          "name": "stdout"
        }
      ]
    },
    {
      "cell_type": "code",
      "metadata": {
        "colab": {
          "base_uri": "https://localhost:8080/"
        },
        "id": "UEs9mjzenKYm",
        "outputId": "c89994bc-c020-41c4-a7d4-d42d4cf110f2"
      },
      "source": [
        "Results = Model.evaluate(x_test,y_test)"
      ],
      "execution_count": 104,
      "outputs": [
        {
          "output_type": "stream",
          "text": [
            "75/75 [==============================] - 0s 3ms/step - loss: 0.1796 - accuracy: 0.7360\n"
          ],
          "name": "stdout"
        }
      ]
    },
    {
      "cell_type": "code",
      "metadata": {
        "colab": {
          "base_uri": "https://localhost:8080/",
          "height": 282
        },
        "id": "NHIljtTdnRNK",
        "outputId": "2035abbb-2e74-4657-f446-48fcdfe0b51b"
      },
      "source": [
        "Graph = pd.DataFrame(CNN_Model.history)\n",
        "Graph.plot()"
      ],
      "execution_count": 105,
      "outputs": [
        {
          "output_type": "execute_result",
          "data": {
            "text/plain": [
              "<matplotlib.axes._subplots.AxesSubplot at 0x7fe57b7a35d0>"
            ]
          },
          "metadata": {
            "tags": []
          },
          "execution_count": 105
        },
        {
          "output_type": "display_data",
          "data": {
            "image/png": "[encoded data removed]",
            "text/plain": [
              "<Figure size 432x288 with 1 Axes>"
            ]
          },
          "metadata": {
            "tags": [],
            "needs_background": "light"
          }
        }
      ]
    }
  ]
}